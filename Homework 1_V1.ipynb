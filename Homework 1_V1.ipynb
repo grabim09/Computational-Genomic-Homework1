{
 "cells": [
  {
   "cell_type": "code",
   "execution_count": 1,
   "id": "402bedfb",
   "metadata": {},
   "outputs": [
    {
     "name": "stderr",
     "output_type": "stream",
     "text": [
      "2023-09-06 09:37:06.842 INFO    numexpr.utils: Note: NumExpr detected 12 cores but \"NUMEXPR_MAX_THREADS\" not set, so enforcing safe limit of 8.\n"
     ]
    }
   ],
   "source": [
    "#All Necessary Library\n",
    "import streamlit as st\n",
    "import numpy as np\n",
    "import pandas as pd\n",
    "import random as rand"
   ]
  },
  {
   "cell_type": "markdown",
   "id": "ffee1bd5",
   "metadata": {},
   "source": [
    "## Soal 1"
   ]
  },
  {
   "cell_type": "code",
   "execution_count": 2,
   "id": "1593c14a",
   "metadata": {},
   "outputs": [],
   "source": [
    "Nitrogen_Base_Dict = {\n",
    "    \"Purines\": {\n",
    "        \"Adenine\",\n",
    "        \"Guanine\"\n",
    "    },\n",
    "    \"Pyrimidines\": {\n",
    "        \"Cytosine\",\n",
    "        \"Thymine\",\n",
    "        \"Uracile\"\n",
    "    }\n",
    "}"
   ]
  },
  {
   "cell_type": "code",
   "execution_count": 3,
   "id": "6d41a5e9",
   "metadata": {},
   "outputs": [
    {
     "name": "stdout",
     "output_type": "stream",
     "text": [
      "{'Purines': {'Guanine', 'Adenine'}, 'Pyrimidines': {'Thymine', 'Uracile', 'Cytosine'}}\n"
     ]
    }
   ],
   "source": [
    "print(Nitrogen_Base_Dict)"
   ]
  },
  {
   "cell_type": "code",
   "execution_count": 4,
   "id": "799e7215",
   "metadata": {},
   "outputs": [
    {
     "name": "stdout",
     "output_type": "stream",
     "text": [
      "{'Guanine', 'Adenine'}\n",
      "{'Thymine', 'Uracile', 'Cytosine'}\n"
     ]
    }
   ],
   "source": [
    "print(Nitrogen_Base_Dict[\"Purines\"])\n",
    "print(Nitrogen_Base_Dict[\"Pyrimidines\"])"
   ]
  },
  {
   "cell_type": "code",
   "execution_count": 5,
   "id": "d902c767",
   "metadata": {},
   "outputs": [
    {
     "data": {
      "text/plain": [
       "{'DNA': {'Purines': {'Adenine', 'Guanine'},\n",
       "  'Pyrimidines': {'Cytosine', 'Thymine'},\n",
       "  'Nitrogen Base Name': {'Adenine', 'Cytosine', 'Guanine', 'Thymine'}},\n",
       " 'RNA': {'Purines': {'Adenine', 'Guanine'},\n",
       "  'Pyrimidines': {'Cytosine', 'Uracile'},\n",
       "  'Nitrogen Base Name': {'Adenine', 'Cytosine', 'Guanine', 'Thymine'}}}"
      ]
     },
     "execution_count": 5,
     "metadata": {},
     "output_type": "execute_result"
    }
   ],
   "source": [
    "Nucleic_Acid_Nitrogen_Base = {\n",
    "    \"DNA\":{\n",
    "        \"Purines\": Nitrogen_Base_Dict[\"Purines\"],\n",
    "        \"Pyrimidines\": Nitrogen_Base_Dict[\"Pyrimidines\"] - {'Uracile'},\n",
    "        \"Nitrogen Base Name\": Nitrogen_Base_Dict[\"Purines\"] | (Nitrogen_Base_Dict[\"Pyrimidines\"] - {'Uracile'}),\n",
    "    },\n",
    "    \"RNA\":{\n",
    "        \"Purines\": Nitrogen_Base_Dict[\"Purines\"],\n",
    "        \"Pyrimidines\": Nitrogen_Base_Dict[\"Pyrimidines\"] - {'Thymine'},\n",
    "        \"Nitrogen Base Name\": Nitrogen_Base_Dict[\"Purines\"] | (Nitrogen_Base_Dict[\"Pyrimidines\"] - {'Uracile'}),\n",
    "    }\n",
    "}\n",
    "Nucleic_Acid_Nitrogen_Base"
   ]
  },
  {
   "cell_type": "code",
   "execution_count": 6,
   "id": "bdc04e40",
   "metadata": {},
   "outputs": [
    {
     "data": {
      "text/html": [
       "<div>\n",
       "<style scoped>\n",
       "    .dataframe tbody tr th:only-of-type {\n",
       "        vertical-align: middle;\n",
       "    }\n",
       "\n",
       "    .dataframe tbody tr th {\n",
       "        vertical-align: top;\n",
       "    }\n",
       "\n",
       "    .dataframe thead th {\n",
       "        text-align: right;\n",
       "    }\n",
       "</style>\n",
       "<table border=\"1\" class=\"dataframe\">\n",
       "  <thead>\n",
       "    <tr style=\"text-align: right;\">\n",
       "      <th></th>\n",
       "      <th>Purines</th>\n",
       "      <th>Pyrimidines</th>\n",
       "      <th>Nitrogen Base Name</th>\n",
       "    </tr>\n",
       "  </thead>\n",
       "  <tbody>\n",
       "    <tr>\n",
       "      <th>DNA</th>\n",
       "      <td>{Guanine, Adenine}</td>\n",
       "      <td>{Thymine, Cytosine}</td>\n",
       "      <td>{Guanine, Adenine, Cytosine, Thymine}</td>\n",
       "    </tr>\n",
       "    <tr>\n",
       "      <th>RNA</th>\n",
       "      <td>{Guanine, Adenine}</td>\n",
       "      <td>{Uracile, Cytosine}</td>\n",
       "      <td>{Guanine, Adenine, Cytosine, Thymine}</td>\n",
       "    </tr>\n",
       "  </tbody>\n",
       "</table>\n",
       "</div>"
      ],
      "text/plain": [
       "                Purines          Pyrimidines  \\\n",
       "DNA  {Guanine, Adenine}  {Thymine, Cytosine}   \n",
       "RNA  {Guanine, Adenine}  {Uracile, Cytosine}   \n",
       "\n",
       "                        Nitrogen Base Name  \n",
       "DNA  {Guanine, Adenine, Cytosine, Thymine}  \n",
       "RNA  {Guanine, Adenine, Cytosine, Thymine}  "
      ]
     },
     "execution_count": 6,
     "metadata": {},
     "output_type": "execute_result"
    }
   ],
   "source": [
    "NANB = pd.DataFrame(Nucleic_Acid_Nitrogen_Base).T\n",
    "NANB"
   ]
  },
  {
   "cell_type": "code",
   "execution_count": 7,
   "id": "f64c473c",
   "metadata": {},
   "outputs": [
    {
     "data": {
      "text/plain": [
       "{'Purines': {'Adenine', 'Guanine'},\n",
       " 'Pyrimidines': {'Cytosine', 'Thymine'},\n",
       " 'Nitrogen Base Name': {'Adenine', 'Cytosine', 'Guanine', 'Thymine'}}"
      ]
     },
     "execution_count": 7,
     "metadata": {},
     "output_type": "execute_result"
    }
   ],
   "source": [
    "result = Nucleic_Acid_Nitrogen_Base.get(\"DNA\")\n",
    "result"
   ]
  },
  {
   "cell_type": "code",
   "execution_count": 8,
   "id": "2be907ab",
   "metadata": {},
   "outputs": [],
   "source": [
    "def nitrogen_base(molecule):\n",
    "    Purines = Nitrogen_Base_Dict[\"Purines\"]\n",
    "    Pur = Purines\n",
    "    Pyrimidines = Nitrogen_Base_Dict[\"Pyrimidines\"]\n",
    "    if molecule == 'DNA':\n",
    "        Pyr = Pyrimidines - {'Uracile'}\n",
    "    elif molecule == 'RNA':\n",
    "        Pyr = Pyrimidines - {'Thymine'}\n",
    "    else:\n",
    "        print('Unknown Molecule')\n",
    "    NBF = Pur | Pyr\n",
    "#     NBF = sorted(NBF)\n",
    "#     NBF = sorted(Pur | Pyr)\n",
    "    NBC = set()\n",
    "    for code in NBF:\n",
    "        NBC.add(code[0])\n",
    "    print('Molecule Type: ' + molecule)\n",
    "    print('Purines: ' + str(Pur))\n",
    "    print('Pyrimidines: ' + str(Pyr))\n",
    "    print('Nitrogen Base Name: ' + str(NBF))\n",
    "    print('Nitrogen Base Code: ' + str(NBC))\n",
    "#     letters = list(NBC)\n",
    "#     random_string = ''.join(rand.choice(letters) for i in range(3))\n",
    "#     return random_string"
   ]
  },
  {
   "cell_type": "code",
   "execution_count": 9,
   "id": "e788c4bc",
   "metadata": {},
   "outputs": [
    {
     "name": "stdout",
     "output_type": "stream",
     "text": [
      "Molecule Type: DNA\n",
      "Purines: {'Guanine', 'Adenine'}\n",
      "Pyrimidines: {'Thymine', 'Cytosine'}\n",
      "Nitrogen Base Name: {'Guanine', 'Adenine', 'Cytosine', 'Thymine'}\n",
      "Nitrogen Base Code: {'T', 'A', 'C', 'G'}\n"
     ]
    }
   ],
   "source": [
    "nitrogen_base('DNA')"
   ]
  },
  {
   "cell_type": "code",
   "execution_count": 10,
   "id": "7f4db406",
   "metadata": {},
   "outputs": [
    {
     "name": "stdout",
     "output_type": "stream",
     "text": [
      "Molecule Type: RNA\n",
      "Purines: {'Guanine', 'Adenine'}\n",
      "Pyrimidines: {'Uracile', 'Cytosine'}\n",
      "Nitrogen Base Name: {'Guanine', 'Adenine', 'Uracile', 'Cytosine'}\n",
      "Nitrogen Base Code: {'A', 'U', 'C', 'G'}\n"
     ]
    }
   ],
   "source": [
    "nitrogen_base('RNA')"
   ]
  },
  {
   "cell_type": "code",
   "execution_count": null,
   "id": "657989a1",
   "metadata": {},
   "outputs": [],
   "source": [
    "def main():\n",
    "    st.title(\"Komputasi Genomik_Assignment 1_Armand Faris A Surbakti_5023201051\")\n",
    "    select = st.radio(\"Select an RNA or DNA sequence.\", (\"DNA\", \"RNA\"))\n",
    "    \n",
    "if __name__ == \"__main__\":\n",
    "    main()"
   ]
  },
  {
   "cell_type": "code",
   "execution_count": 2,
   "id": "3fe4a2c1",
   "metadata": {},
   "outputs": [],
   "source": [
    "Genetic_Code = {\n",
    "    0: {\n",
    "        \"Amino Acid\": \"Isoleucine\",\n",
    "        \"Single_Letter\": \"I\",\n",
    "        \"3-Letter Code\": \"Iso\",\n",
    "        \"Codon\": ['ATT', 'ATC', 'ATA']\n",
    "    },\n",
    "    1: {\n",
    "        \"Amino Acid\": \"Leucine\",\n",
    "        \"Single_Letter\": \"L\",\n",
    "        \"3-Letter Code\": \"Leu\",\n",
    "        \"Codon\": ['CTT', 'CTC', 'CTA', 'CTG', 'TTA', 'TTG']\n",
    "    },\n",
    "    2: {\n",
    "        \"Amino Acid\": \"Valine\",\n",
    "        \"Single_Letter\": \"V\",\n",
    "        \"3-Letter Code\": \"Val\",\n",
    "        \"Codon\": ['GTT', 'GTC', 'GTA', 'GTG']\n",
    "    },\n",
    "    3: {\n",
    "        \"Amino Acid\": \"Phenylalanine\",\n",
    "        \"Single_Letter\": \"F\",\n",
    "        \"3-Letter Code\": \"Phe\",\n",
    "        \"Codon\": ['TTT', 'TTC']\n",
    "    },\n",
    "    4: {\n",
    "        \"Amino Acid\": \"Methionine\",\n",
    "        \"Single_Letter\": \"M\",\n",
    "        \"3-Letter Code\": \"Met (Start)\",\n",
    "        \"Codon\": ['ATG']\n",
    "    },\n",
    "    5: {\n",
    "        \"Amino Acid\": \"Cysteine\",\n",
    "        \"Single_Letter\": \"C\",\n",
    "        \"3-Letter Code\": \"Cys\",\n",
    "        \"Codon\": ['TGT', 'TGC']\n",
    "    },\n",
    "    6: {\n",
    "        \"Amino Acid\": \"Alanine\",\n",
    "        \"Single_Letter\": \"A\",\n",
    "        \"3-Letter Code\": \"Ala\",\n",
    "        \"Codon\": ['GCT', 'GCC', 'GCA', 'GCG']\n",
    "    },\n",
    "    7: {\n",
    "        \"Amino Acid\": \"Glycine\",\n",
    "        \"Single_Letter\": \"G\",\n",
    "        \"3-Letter Code\": \"Gly\",\n",
    "        \"Codon\": ['GGT', 'GGC', 'GGA', 'GGG']\n",
    "    },\n",
    "    8: {\n",
    "        \"Amino Acid\": \"Proline\",\n",
    "        \"Single_Letter\": \"P\",\n",
    "        \"3-Letter Code\": \"Pro\",\n",
    "        \"Codon\": ['CCT', 'CCC', 'CCA', 'CCG']\n",
    "    },\n",
    "    9: {\n",
    "        \"Amino Acid\": \"Threonine\",\n",
    "        \"Single_Letter\": \"T\",\n",
    "        \"3-Letter Code\": \"Thr\",\n",
    "        \"Codon\": ['ACT', 'ACC', 'ACA', 'ACG']\n",
    "    },\n",
    "    10: {\n",
    "        \"Amino Acid\": \"Serine\",\n",
    "        \"Single_Letter\": \"S\",\n",
    "        \"3-Letter Code\": \"Ser\",\n",
    "        \"Codon\": ['TCT', 'TCC', 'TCA', 'TCG', 'AGT', 'AGC']\n",
    "    },\n",
    "    11: {\n",
    "        \"Amino Acid\": \"Tyrosine\",\n",
    "        \"Single_Letter\": \"Y\",\n",
    "        \"3-Letter Code\": \"Tyr\",\n",
    "        \"Codon\": ['TAT', 'TAC']\n",
    "    },\n",
    "    12: {\n",
    "        \"Amino Acid\": \"Tryptophan\",\n",
    "        \"Single_Letter\": \"V\",\n",
    "        \"3-Letter Code\": \"Trp\",\n",
    "        \"Codon\": ['TGG']\n",
    "    },\n",
    "    13: {\n",
    "        \"Amino Acid\": \"Glutamine\",\n",
    "        \"Single_Letter\": \"Q\",\n",
    "        \"3-Letter Code\": \"Glu\",\n",
    "        \"Codon\": ['CAA', 'CAG']\n",
    "    },\n",
    "    14: {\n",
    "        \"Amino Acid\": \"Asparagine\",\n",
    "        \"Single_Letter\": \"N\",\n",
    "        \"3-Letter Code\": \"Asn\",\n",
    "        \"Codon\": ['AAT', 'AAC']\n",
    "    },\n",
    "    15: {\n",
    "        \"Amino Acid\": \"Histidine\",\n",
    "        \"Single_Letter\": \"H\",\n",
    "        \"3-Letter Code\": \"His\",\n",
    "        \"Codon\": ['CAT', 'CAC']\n",
    "    },\n",
    "    16: {\n",
    "        \"Amino Acid\": \"Glutamic Acid\",\n",
    "        \"Single_Letter\": \"E\",\n",
    "        \"3-Letter Code\": \"Glu\",\n",
    "        \"Codon\": ['GAA', 'GAG']\n",
    "    },\n",
    "    17: {\n",
    "        \"Amino Acid\": \"Aspartic Acid\",\n",
    "        \"Single_Letter\": \"D\",\n",
    "        \"3-Letter Code\": \"Asp\",\n",
    "        \"Codon\": ['GAT', 'GAC']\n",
    "    },\n",
    "    18: {\n",
    "        \"Amino Acid\": \"Lysine\",\n",
    "        \"Single_Letter\": \"K\",\n",
    "        \"3-Letter Code\": \"Lys\",\n",
    "        \"Codon\": ['AAA', 'AAG']\n",
    "    },\n",
    "    19: {\n",
    "        \"Amino Acid\": \"Arginine\",\n",
    "        \"Single_Letter\": \"R\",\n",
    "        \"3-Letter Code\": \"Arg\",\n",
    "        \"Codon\": ['CGT', 'CGC', 'CGA', 'AGA', 'AGG']\n",
    "    },\n",
    "    20: {\n",
    "        \"Amino Acid\": \"Stop Codon\",\n",
    "        \"Single_Letter\": \"Stop\",\n",
    "        \"3-Letter Code\": \"Termination\",\n",
    "        \"Codon\": ['TAA', 'TAG', 'TGA']\n",
    "    }\n",
    "}"
   ]
  },
  {
   "cell_type": "code",
   "execution_count": 3,
   "id": "cf5ac3a6",
   "metadata": {},
   "outputs": [],
   "source": [
    "GC = pd.DataFrame(Genetic_Code).T"
   ]
  },
  {
   "cell_type": "code",
   "execution_count": 4,
   "id": "53798f90",
   "metadata": {},
   "outputs": [
    {
     "data": {
      "text/html": [
       "<div>\n",
       "<style scoped>\n",
       "    .dataframe tbody tr th:only-of-type {\n",
       "        vertical-align: middle;\n",
       "    }\n",
       "\n",
       "    .dataframe tbody tr th {\n",
       "        vertical-align: top;\n",
       "    }\n",
       "\n",
       "    .dataframe thead th {\n",
       "        text-align: right;\n",
       "    }\n",
       "</style>\n",
       "<table border=\"1\" class=\"dataframe\">\n",
       "  <thead>\n",
       "    <tr style=\"text-align: right;\">\n",
       "      <th></th>\n",
       "      <th>Amino Acid</th>\n",
       "      <th>Single_Letter</th>\n",
       "      <th>3-Letter Code</th>\n",
       "      <th>Codon</th>\n",
       "    </tr>\n",
       "  </thead>\n",
       "  <tbody>\n",
       "    <tr>\n",
       "      <th>0</th>\n",
       "      <td>Isoleucine</td>\n",
       "      <td>I</td>\n",
       "      <td>Iso</td>\n",
       "      <td>[ATT, ATC, ATA]</td>\n",
       "    </tr>\n",
       "    <tr>\n",
       "      <th>1</th>\n",
       "      <td>Leucine</td>\n",
       "      <td>L</td>\n",
       "      <td>Leu</td>\n",
       "      <td>[CTT, CTC, CTA, CTG, TTA, TTG]</td>\n",
       "    </tr>\n",
       "    <tr>\n",
       "      <th>2</th>\n",
       "      <td>Valine</td>\n",
       "      <td>V</td>\n",
       "      <td>Val</td>\n",
       "      <td>[GTT, GTC, GTA, GTG]</td>\n",
       "    </tr>\n",
       "    <tr>\n",
       "      <th>3</th>\n",
       "      <td>Phenylalanine</td>\n",
       "      <td>F</td>\n",
       "      <td>Phe</td>\n",
       "      <td>[TTT, TTC]</td>\n",
       "    </tr>\n",
       "    <tr>\n",
       "      <th>4</th>\n",
       "      <td>Methionine</td>\n",
       "      <td>M</td>\n",
       "      <td>Met (Start)</td>\n",
       "      <td>[ATG]</td>\n",
       "    </tr>\n",
       "    <tr>\n",
       "      <th>5</th>\n",
       "      <td>Cysteine</td>\n",
       "      <td>C</td>\n",
       "      <td>Cys</td>\n",
       "      <td>[TGT, TGC]</td>\n",
       "    </tr>\n",
       "    <tr>\n",
       "      <th>6</th>\n",
       "      <td>Alanine</td>\n",
       "      <td>A</td>\n",
       "      <td>Ala</td>\n",
       "      <td>[GCT, GCC, GCA, GCG]</td>\n",
       "    </tr>\n",
       "    <tr>\n",
       "      <th>7</th>\n",
       "      <td>Glycine</td>\n",
       "      <td>G</td>\n",
       "      <td>Gly</td>\n",
       "      <td>[GGT, GGC, GGA, GGG]</td>\n",
       "    </tr>\n",
       "    <tr>\n",
       "      <th>8</th>\n",
       "      <td>Proline</td>\n",
       "      <td>P</td>\n",
       "      <td>Pro</td>\n",
       "      <td>[CCT, CCC, CCA, CCG]</td>\n",
       "    </tr>\n",
       "    <tr>\n",
       "      <th>9</th>\n",
       "      <td>Threonine</td>\n",
       "      <td>T</td>\n",
       "      <td>Thr</td>\n",
       "      <td>[ACT, ACC, ACA, ACG]</td>\n",
       "    </tr>\n",
       "    <tr>\n",
       "      <th>10</th>\n",
       "      <td>Serine</td>\n",
       "      <td>S</td>\n",
       "      <td>Ser</td>\n",
       "      <td>[TCT, TCC, TCA, TCG, AGT, AGC]</td>\n",
       "    </tr>\n",
       "    <tr>\n",
       "      <th>11</th>\n",
       "      <td>Tyrosine</td>\n",
       "      <td>Y</td>\n",
       "      <td>Tyr</td>\n",
       "      <td>[TAT, TAC]</td>\n",
       "    </tr>\n",
       "    <tr>\n",
       "      <th>12</th>\n",
       "      <td>Tryptophan</td>\n",
       "      <td>V</td>\n",
       "      <td>Trp</td>\n",
       "      <td>[TGG]</td>\n",
       "    </tr>\n",
       "    <tr>\n",
       "      <th>13</th>\n",
       "      <td>Glutamine</td>\n",
       "      <td>Q</td>\n",
       "      <td>Glu</td>\n",
       "      <td>[CAA, CAG]</td>\n",
       "    </tr>\n",
       "    <tr>\n",
       "      <th>14</th>\n",
       "      <td>Asparagine</td>\n",
       "      <td>N</td>\n",
       "      <td>Asn</td>\n",
       "      <td>[AAT, AAC]</td>\n",
       "    </tr>\n",
       "    <tr>\n",
       "      <th>15</th>\n",
       "      <td>Histidine</td>\n",
       "      <td>H</td>\n",
       "      <td>His</td>\n",
       "      <td>[CAT, CAC]</td>\n",
       "    </tr>\n",
       "    <tr>\n",
       "      <th>16</th>\n",
       "      <td>Glutamic Acid</td>\n",
       "      <td>E</td>\n",
       "      <td>Glu</td>\n",
       "      <td>[GAA, GAG]</td>\n",
       "    </tr>\n",
       "    <tr>\n",
       "      <th>17</th>\n",
       "      <td>Aspartic Acid</td>\n",
       "      <td>D</td>\n",
       "      <td>Asp</td>\n",
       "      <td>[GAT, GAC]</td>\n",
       "    </tr>\n",
       "    <tr>\n",
       "      <th>18</th>\n",
       "      <td>Lysine</td>\n",
       "      <td>K</td>\n",
       "      <td>Lys</td>\n",
       "      <td>[AAA, AAG]</td>\n",
       "    </tr>\n",
       "    <tr>\n",
       "      <th>19</th>\n",
       "      <td>Arginine</td>\n",
       "      <td>R</td>\n",
       "      <td>Arg</td>\n",
       "      <td>[CGT, CGC, CGA, AGA, AGG]</td>\n",
       "    </tr>\n",
       "    <tr>\n",
       "      <th>20</th>\n",
       "      <td>Stop Codon</td>\n",
       "      <td>Stop</td>\n",
       "      <td>Termination</td>\n",
       "      <td>[TAA, TAG, TGA]</td>\n",
       "    </tr>\n",
       "  </tbody>\n",
       "</table>\n",
       "</div>"
      ],
      "text/plain": [
       "       Amino Acid Single_Letter 3-Letter Code                           Codon\n",
       "0      Isoleucine             I           Iso                 [ATT, ATC, ATA]\n",
       "1         Leucine             L           Leu  [CTT, CTC, CTA, CTG, TTA, TTG]\n",
       "2          Valine             V           Val            [GTT, GTC, GTA, GTG]\n",
       "3   Phenylalanine             F           Phe                      [TTT, TTC]\n",
       "4      Methionine             M   Met (Start)                           [ATG]\n",
       "5        Cysteine             C           Cys                      [TGT, TGC]\n",
       "6         Alanine             A           Ala            [GCT, GCC, GCA, GCG]\n",
       "7         Glycine             G           Gly            [GGT, GGC, GGA, GGG]\n",
       "8         Proline             P           Pro            [CCT, CCC, CCA, CCG]\n",
       "9       Threonine             T           Thr            [ACT, ACC, ACA, ACG]\n",
       "10         Serine             S           Ser  [TCT, TCC, TCA, TCG, AGT, AGC]\n",
       "11       Tyrosine             Y           Tyr                      [TAT, TAC]\n",
       "12     Tryptophan             V           Trp                           [TGG]\n",
       "13      Glutamine             Q           Glu                      [CAA, CAG]\n",
       "14     Asparagine             N           Asn                      [AAT, AAC]\n",
       "15      Histidine             H           His                      [CAT, CAC]\n",
       "16  Glutamic Acid             E           Glu                      [GAA, GAG]\n",
       "17  Aspartic Acid             D           Asp                      [GAT, GAC]\n",
       "18         Lysine             K           Lys                      [AAA, AAG]\n",
       "19       Arginine             R           Arg       [CGT, CGC, CGA, AGA, AGG]\n",
       "20     Stop Codon          Stop   Termination                 [TAA, TAG, TGA]"
      ]
     },
     "execution_count": 4,
     "metadata": {},
     "output_type": "execute_result"
    }
   ],
   "source": [
    "GC"
   ]
  },
  {
   "cell_type": "code",
   "execution_count": 5,
   "id": "5665ebbf",
   "metadata": {},
   "outputs": [
    {
     "name": "stdout",
     "output_type": "stream",
     "text": [
      "<class 'pandas.core.frame.DataFrame'>\n",
      "Int64Index: 21 entries, 0 to 20\n",
      "Data columns (total 4 columns):\n",
      " #   Column         Non-Null Count  Dtype \n",
      "---  ------         --------------  ----- \n",
      " 0   Amino Acid     21 non-null     object\n",
      " 1   Single_Letter  21 non-null     object\n",
      " 2   3-Letter Code  21 non-null     object\n",
      " 3   Codon          21 non-null     object\n",
      "dtypes: object(4)\n",
      "memory usage: 840.0+ bytes\n"
     ]
    }
   ],
   "source": [
    "GC.info()"
   ]
  },
  {
   "cell_type": "code",
   "execution_count": null,
   "id": "3b06adf3",
   "metadata": {},
   "outputs": [],
   "source": [
    "def generate_random_codon(molecule,length):\n",
    "    # Get all the ASCII letters in lowercase and uppercase\n",
    "    letters = string.ascii_letters\n",
    "    # Randomly choose characters from letters for the given length of the string\n",
    "    random_string = ''.join(random.choice(letters) for i in range(length))\n",
    "    return random_string"
   ]
  },
  {
   "cell_type": "code",
   "execution_count": 6,
   "id": "2d98eb2e",
   "metadata": {},
   "outputs": [
    {
     "data": {
      "text/plain": [
       "2"
      ]
     },
     "execution_count": 6,
     "metadata": {},
     "output_type": "execute_result"
    }
   ],
   "source": [
    "row = GC[GC['Amino Acid'] == 'Valine'].index[0]\n",
    "row"
   ]
  },
  {
   "cell_type": "code",
   "execution_count": 7,
   "id": "c08d6550",
   "metadata": {},
   "outputs": [
    {
     "data": {
      "text/plain": [
       "['TTT', 'TTC']"
      ]
     },
     "execution_count": 7,
     "metadata": {},
     "output_type": "execute_result"
    }
   ],
   "source": [
    "GC.loc[3]['Codon']"
   ]
  },
  {
   "cell_type": "code",
   "execution_count": 8,
   "id": "5d3850d6",
   "metadata": {},
   "outputs": [
    {
     "data": {
      "text/plain": [
       "['GTT', 'GTC', 'GTA', 'GTG']"
      ]
     },
     "execution_count": 8,
     "metadata": {},
     "output_type": "execute_result"
    }
   ],
   "source": [
    "GC.loc[GC[GC['Amino Acid'] == 'Valine'].index[0]]['Codon']"
   ]
  },
  {
   "cell_type": "code",
   "execution_count": 9,
   "id": "cabbcca6",
   "metadata": {},
   "outputs": [
    {
     "data": {
      "text/html": [
       "<div>\n",
       "<style scoped>\n",
       "    .dataframe tbody tr th:only-of-type {\n",
       "        vertical-align: middle;\n",
       "    }\n",
       "\n",
       "    .dataframe tbody tr th {\n",
       "        vertical-align: top;\n",
       "    }\n",
       "\n",
       "    .dataframe thead th {\n",
       "        text-align: right;\n",
       "    }\n",
       "</style>\n",
       "<table border=\"1\" class=\"dataframe\">\n",
       "  <thead>\n",
       "    <tr style=\"text-align: right;\">\n",
       "      <th></th>\n",
       "      <th>Amino Acid</th>\n",
       "      <th>Single_Letter</th>\n",
       "      <th>3-Letter Code</th>\n",
       "      <th>Codon</th>\n",
       "    </tr>\n",
       "  </thead>\n",
       "  <tbody>\n",
       "    <tr>\n",
       "      <th>2</th>\n",
       "      <td>Valine</td>\n",
       "      <td>V</td>\n",
       "      <td>Val</td>\n",
       "      <td>[GTT, GTC, GTA, GTG]</td>\n",
       "    </tr>\n",
       "  </tbody>\n",
       "</table>\n",
       "</div>"
      ],
      "text/plain": [
       "  Amino Acid Single_Letter 3-Letter Code                 Codon\n",
       "2     Valine             V           Val  [GTT, GTC, GTA, GTG]"
      ]
     },
     "execution_count": 9,
     "metadata": {},
     "output_type": "execute_result"
    }
   ],
   "source": [
    "GC.loc[GC['Amino Acid'] == 'Valine']"
   ]
  },
  {
   "cell_type": "code",
   "execution_count": 10,
   "id": "3577d602",
   "metadata": {},
   "outputs": [
    {
     "data": {
      "text/plain": [
       "0                    [ATT, ATC, ATA]\n",
       "1     [CTT, CTC, CTA, CTG, TTA, TTG]\n",
       "2               [GTT, GTC, GTA, GTG]\n",
       "3                         [TTT, TTC]\n",
       "4                              [ATG]\n",
       "5                         [TGT, TGC]\n",
       "6               [GCT, GCC, GCA, GCG]\n",
       "7               [GGT, GGC, GGA, GGG]\n",
       "8               [CCT, CCC, CCA, CCG]\n",
       "9               [ACT, ACC, ACA, ACG]\n",
       "10    [TCT, TCC, TCA, TCG, AGT, AGC]\n",
       "11                        [TAT, TAC]\n",
       "12                             [TGG]\n",
       "13                        [CAA, CAG]\n",
       "14                        [AAT, AAC]\n",
       "15                        [CAT, CAC]\n",
       "16                        [GAA, GAG]\n",
       "17                        [GAT, GAC]\n",
       "18                        [AAA, AAG]\n",
       "19         [CGT, CGC, CGA, AGA, AGG]\n",
       "20                   [TAA, TAG, TGA]\n",
       "Name: Codon, dtype: object"
      ]
     },
     "execution_count": 10,
     "metadata": {},
     "output_type": "execute_result"
    }
   ],
   "source": [
    "GC.loc[:,'Codon']"
   ]
  },
  {
   "cell_type": "code",
   "execution_count": 11,
   "id": "2103975d",
   "metadata": {},
   "outputs": [
    {
     "data": {
      "text/plain": [
       "0"
      ]
     },
     "execution_count": 11,
     "metadata": {},
     "output_type": "execute_result"
    }
   ],
   "source": [
    "GC.loc[GC[GC['Amino Acid'] == 'Valine'].index[0]]['Codon'].index('GTT')"
   ]
  },
  {
   "cell_type": "code",
   "execution_count": 12,
   "id": "0c56c424",
   "metadata": {},
   "outputs": [
    {
     "data": {
      "text/plain": [
       "'GTT'"
      ]
     },
     "execution_count": 12,
     "metadata": {},
     "output_type": "execute_result"
    }
   ],
   "source": [
    "GC.loc[GC[GC['Amino Acid'] == 'Valine'].index[0]]['Codon'][0]"
   ]
  },
  {
   "cell_type": "code",
   "execution_count": 13,
   "id": "731d88b1",
   "metadata": {},
   "outputs": [
    {
     "name": "stdout",
     "output_type": "stream",
     "text": [
      "<enumerate object at 0x0000025F005A8640>\n"
     ]
    }
   ],
   "source": [
    "print(enumerate(GC.loc[:,'Codon']))"
   ]
  },
  {
   "cell_type": "code",
   "execution_count": 14,
   "id": "965c379d",
   "metadata": {},
   "outputs": [
    {
     "name": "stdout",
     "output_type": "stream",
     "text": [
      "[(0, ['ATT', 'ATC', 'ATA']), (1, ['CTT', 'CTC', 'CTA', 'CTG', 'TTA', 'TTG']), (2, ['GTT', 'GTC', 'GTA', 'GTG']), (3, ['TTT', 'TTC']), (4, ['ATG']), (5, ['TGT', 'TGC']), (6, ['GCT', 'GCC', 'GCA', 'GCG']), (7, ['GGT', 'GGC', 'GGA', 'GGG']), (8, ['CCT', 'CCC', 'CCA', 'CCG']), (9, ['ACT', 'ACC', 'ACA', 'ACG']), (10, ['TCT', 'TCC', 'TCA', 'TCG', 'AGT', 'AGC']), (11, ['TAT', 'TAC']), (12, ['TGG']), (13, ['CAA', 'CAG']), (14, ['AAT', 'AAC']), (15, ['CAT', 'CAC']), (16, ['GAA', 'GAG']), (17, ['GAT', 'GAC']), (18, ['AAA', 'AAG']), (19, ['CGT', 'CGC', 'CGA', 'AGA', 'AGG']), (20, ['TAA', 'TAG', 'TGA'])]\n"
     ]
    }
   ],
   "source": [
    "print(list(enumerate(GC.loc[:,'Codon'])))"
   ]
  },
  {
   "cell_type": "code",
   "execution_count": 15,
   "id": "b6a7d386",
   "metadata": {},
   "outputs": [
    {
     "name": "stdout",
     "output_type": "stream",
     "text": [
      "2\n"
     ]
    }
   ],
   "source": [
    "for count, ele in enumerate(GC.loc[:,'Codon']):\n",
    "    if 'GTT' in ele:\n",
    "        print (count)\n",
    "        break"
   ]
  },
  {
   "cell_type": "code",
   "execution_count": 16,
   "id": "44dd1342",
   "metadata": {},
   "outputs": [
    {
     "data": {
      "text/plain": [
       "'Valine'"
      ]
     },
     "execution_count": 16,
     "metadata": {},
     "output_type": "execute_result"
    }
   ],
   "source": [
    "GC.loc[count]['Amino Acid']"
   ]
  },
  {
   "cell_type": "code",
   "execution_count": 15,
   "id": "667e0f96",
   "metadata": {},
   "outputs": [
    {
     "name": "stdout",
     "output_type": "stream",
     "text": [
      "0 ['ATT', 'ATC', 'ATA']\n",
      "1 ['CTT', 'CTC', 'CTA', 'CTG', 'TTA', 'TTG']\n",
      "2 ['GTT', 'GTC', 'GTA', 'GTG']\n",
      "3 ['TTT', 'TTC']\n",
      "4 ['ATG']\n",
      "5 ['TGT', 'TGC']\n",
      "6 ['GCT', 'GCC', 'GCA', 'GCG']\n",
      "7 ['GGT', 'GGC', 'GGA', 'GGG']\n",
      "8 ['CCT', 'CCC', 'CCA', 'CCG']\n",
      "9 ['ACT', 'ACC', 'ACA', 'ACG']\n",
      "10 ['TCT', 'TCC', 'TCA', 'TCG', 'AGT', 'AGC']\n",
      "11 ['TAT', 'TAC']\n",
      "12 ['TGG']\n",
      "13 ['CAA', 'CAG']\n",
      "14 ['AAT', 'AAC']\n",
      "15 ['CAT', 'CAC']\n",
      "16 ['GAA', 'GAG']\n",
      "17 ['GAT', 'GAC']\n",
      "18 ['AAA', 'AAG']\n",
      "19 ['CGT', 'CGC', 'CGA', 'AGA', 'AGG']\n",
      "20 ['TAA', 'TAG', 'TGA']\n"
     ]
    }
   ],
   "source": [
    "for count, ele in enumerate(GC.loc[:,'Codon']):\n",
    "    print (count, ele)"
   ]
  },
  {
   "cell_type": "code",
   "execution_count": 35,
   "id": "1597f730",
   "metadata": {},
   "outputs": [
    {
     "ename": "ValueError",
     "evalue": "('Lengths must match to compare', (21,), (4,))",
     "output_type": "error",
     "traceback": [
      "\u001b[1;31m---------------------------------------------------------------------------\u001b[0m",
      "\u001b[1;31mValueError\u001b[0m                                Traceback (most recent call last)",
      "\u001b[1;32mC:\\Users\\AGRABI~1\\AppData\\Local\\Temp/ipykernel_27068/3838997603.py\u001b[0m in \u001b[0;36m<module>\u001b[1;34m\u001b[0m\n\u001b[1;32m----> 1\u001b[1;33m \u001b[0mGC\u001b[0m\u001b[1;33m.\u001b[0m\u001b[0mloc\u001b[0m\u001b[1;33m[\u001b[0m\u001b[0mGC\u001b[0m\u001b[1;33m[\u001b[0m\u001b[1;34m'Codon'\u001b[0m\u001b[1;33m]\u001b[0m \u001b[1;33m==\u001b[0m \u001b[1;33m[\u001b[0m\u001b[1;34m'GTT'\u001b[0m\u001b[1;33m,\u001b[0m \u001b[1;34m'GTC'\u001b[0m\u001b[1;33m,\u001b[0m \u001b[1;34m'GTA'\u001b[0m\u001b[1;33m,\u001b[0m \u001b[1;34m'GTG'\u001b[0m\u001b[1;33m]\u001b[0m\u001b[1;33m]\u001b[0m\u001b[1;33m\u001b[0m\u001b[1;33m\u001b[0m\u001b[0m\n\u001b[0m",
      "\u001b[1;32mC:\\ProgramData\\Anaconda3\\lib\\site-packages\\pandas\\core\\ops\\common.py\u001b[0m in \u001b[0;36mnew_method\u001b[1;34m(self, other)\u001b[0m\n\u001b[0;32m     67\u001b[0m         \u001b[0mother\u001b[0m \u001b[1;33m=\u001b[0m \u001b[0mitem_from_zerodim\u001b[0m\u001b[1;33m(\u001b[0m\u001b[0mother\u001b[0m\u001b[1;33m)\u001b[0m\u001b[1;33m\u001b[0m\u001b[1;33m\u001b[0m\u001b[0m\n\u001b[0;32m     68\u001b[0m \u001b[1;33m\u001b[0m\u001b[0m\n\u001b[1;32m---> 69\u001b[1;33m         \u001b[1;32mreturn\u001b[0m \u001b[0mmethod\u001b[0m\u001b[1;33m(\u001b[0m\u001b[0mself\u001b[0m\u001b[1;33m,\u001b[0m \u001b[0mother\u001b[0m\u001b[1;33m)\u001b[0m\u001b[1;33m\u001b[0m\u001b[1;33m\u001b[0m\u001b[0m\n\u001b[0m\u001b[0;32m     70\u001b[0m \u001b[1;33m\u001b[0m\u001b[0m\n\u001b[0;32m     71\u001b[0m     \u001b[1;32mreturn\u001b[0m \u001b[0mnew_method\u001b[0m\u001b[1;33m\u001b[0m\u001b[1;33m\u001b[0m\u001b[0m\n",
      "\u001b[1;32mC:\\ProgramData\\Anaconda3\\lib\\site-packages\\pandas\\core\\arraylike.py\u001b[0m in \u001b[0;36m__eq__\u001b[1;34m(self, other)\u001b[0m\n\u001b[0;32m     30\u001b[0m     \u001b[1;33m@\u001b[0m\u001b[0munpack_zerodim_and_defer\u001b[0m\u001b[1;33m(\u001b[0m\u001b[1;34m\"__eq__\"\u001b[0m\u001b[1;33m)\u001b[0m\u001b[1;33m\u001b[0m\u001b[1;33m\u001b[0m\u001b[0m\n\u001b[0;32m     31\u001b[0m     \u001b[1;32mdef\u001b[0m \u001b[0m__eq__\u001b[0m\u001b[1;33m(\u001b[0m\u001b[0mself\u001b[0m\u001b[1;33m,\u001b[0m \u001b[0mother\u001b[0m\u001b[1;33m)\u001b[0m\u001b[1;33m:\u001b[0m\u001b[1;33m\u001b[0m\u001b[1;33m\u001b[0m\u001b[0m\n\u001b[1;32m---> 32\u001b[1;33m         \u001b[1;32mreturn\u001b[0m \u001b[0mself\u001b[0m\u001b[1;33m.\u001b[0m\u001b[0m_cmp_method\u001b[0m\u001b[1;33m(\u001b[0m\u001b[0mother\u001b[0m\u001b[1;33m,\u001b[0m \u001b[0moperator\u001b[0m\u001b[1;33m.\u001b[0m\u001b[0meq\u001b[0m\u001b[1;33m)\u001b[0m\u001b[1;33m\u001b[0m\u001b[1;33m\u001b[0m\u001b[0m\n\u001b[0m\u001b[0;32m     33\u001b[0m \u001b[1;33m\u001b[0m\u001b[0m\n\u001b[0;32m     34\u001b[0m     \u001b[1;33m@\u001b[0m\u001b[0munpack_zerodim_and_defer\u001b[0m\u001b[1;33m(\u001b[0m\u001b[1;34m\"__ne__\"\u001b[0m\u001b[1;33m)\u001b[0m\u001b[1;33m\u001b[0m\u001b[1;33m\u001b[0m\u001b[0m\n",
      "\u001b[1;32mC:\\ProgramData\\Anaconda3\\lib\\site-packages\\pandas\\core\\series.py\u001b[0m in \u001b[0;36m_cmp_method\u001b[1;34m(self, other, op)\u001b[0m\n\u001b[0;32m   5500\u001b[0m \u001b[1;33m\u001b[0m\u001b[0m\n\u001b[0;32m   5501\u001b[0m         \u001b[1;32mwith\u001b[0m \u001b[0mnp\u001b[0m\u001b[1;33m.\u001b[0m\u001b[0merrstate\u001b[0m\u001b[1;33m(\u001b[0m\u001b[0mall\u001b[0m\u001b[1;33m=\u001b[0m\u001b[1;34m\"ignore\"\u001b[0m\u001b[1;33m)\u001b[0m\u001b[1;33m:\u001b[0m\u001b[1;33m\u001b[0m\u001b[1;33m\u001b[0m\u001b[0m\n\u001b[1;32m-> 5502\u001b[1;33m             \u001b[0mres_values\u001b[0m \u001b[1;33m=\u001b[0m \u001b[0mops\u001b[0m\u001b[1;33m.\u001b[0m\u001b[0mcomparison_op\u001b[0m\u001b[1;33m(\u001b[0m\u001b[0mlvalues\u001b[0m\u001b[1;33m,\u001b[0m \u001b[0mrvalues\u001b[0m\u001b[1;33m,\u001b[0m \u001b[0mop\u001b[0m\u001b[1;33m)\u001b[0m\u001b[1;33m\u001b[0m\u001b[1;33m\u001b[0m\u001b[0m\n\u001b[0m\u001b[0;32m   5503\u001b[0m \u001b[1;33m\u001b[0m\u001b[0m\n\u001b[0;32m   5504\u001b[0m         \u001b[1;32mreturn\u001b[0m \u001b[0mself\u001b[0m\u001b[1;33m.\u001b[0m\u001b[0m_construct_result\u001b[0m\u001b[1;33m(\u001b[0m\u001b[0mres_values\u001b[0m\u001b[1;33m,\u001b[0m \u001b[0mname\u001b[0m\u001b[1;33m=\u001b[0m\u001b[0mres_name\u001b[0m\u001b[1;33m)\u001b[0m\u001b[1;33m\u001b[0m\u001b[1;33m\u001b[0m\u001b[0m\n",
      "\u001b[1;32mC:\\ProgramData\\Anaconda3\\lib\\site-packages\\pandas\\core\\ops\\array_ops.py\u001b[0m in \u001b[0;36mcomparison_op\u001b[1;34m(left, right, op)\u001b[0m\n\u001b[0;32m    259\u001b[0m         \u001b[1;31m#  The ambiguous case is object-dtype.  See GH#27803\u001b[0m\u001b[1;33m\u001b[0m\u001b[1;33m\u001b[0m\u001b[0m\n\u001b[0;32m    260\u001b[0m         \u001b[1;32mif\u001b[0m \u001b[0mlen\u001b[0m\u001b[1;33m(\u001b[0m\u001b[0mlvalues\u001b[0m\u001b[1;33m)\u001b[0m \u001b[1;33m!=\u001b[0m \u001b[0mlen\u001b[0m\u001b[1;33m(\u001b[0m\u001b[0mrvalues\u001b[0m\u001b[1;33m)\u001b[0m\u001b[1;33m:\u001b[0m\u001b[1;33m\u001b[0m\u001b[1;33m\u001b[0m\u001b[0m\n\u001b[1;32m--> 261\u001b[1;33m             raise ValueError(\n\u001b[0m\u001b[0;32m    262\u001b[0m                 \u001b[1;34m\"Lengths must match to compare\"\u001b[0m\u001b[1;33m,\u001b[0m \u001b[0mlvalues\u001b[0m\u001b[1;33m.\u001b[0m\u001b[0mshape\u001b[0m\u001b[1;33m,\u001b[0m \u001b[0mrvalues\u001b[0m\u001b[1;33m.\u001b[0m\u001b[0mshape\u001b[0m\u001b[1;33m\u001b[0m\u001b[1;33m\u001b[0m\u001b[0m\n\u001b[0;32m    263\u001b[0m             )\n",
      "\u001b[1;31mValueError\u001b[0m: ('Lengths must match to compare', (21,), (4,))"
     ]
    }
   ],
   "source": [
    "i = s.index[GC.loc[GC[GC['Amino Acid'] == 'Valine'].index[0]]['Codon'].str.contains('GTT')]"
   ]
  }
 ],
 "metadata": {
  "kernelspec": {
   "display_name": "Python 3 (ipykernel)",
   "language": "python",
   "name": "python3"
  },
  "language_info": {
   "codemirror_mode": {
    "name": "ipython",
    "version": 3
   },
   "file_extension": ".py",
   "mimetype": "text/x-python",
   "name": "python",
   "nbconvert_exporter": "python",
   "pygments_lexer": "ipython3",
   "version": "3.9.7"
  }
 },
 "nbformat": 4,
 "nbformat_minor": 5
}
